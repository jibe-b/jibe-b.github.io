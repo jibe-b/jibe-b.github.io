{
 "metadata": {
  "name": ""
 },
 "nbformat": 3,
 "nbformat_minor": 0,
 "worksheets": [
  {
   "cells": [
    {
     "cell_type": "markdown",
     "metadata": {},
     "source": [
      "# Feuille de calcul interactive avec enregistrement des r\u00e9sultats en Linked Data"
     ]
    },
    {
     "cell_type": "markdown",
     "metadata": {},
     "source": [
      "### Initialiser ce qui concerne le graph RDF"
     ]
    },
    {
     "cell_type": "code",
     "collapsed": false,
     "input": [
      "import rdflib\n",
      "from rdflib import Graph, Namespace, URIRef, BNode, Literal\n",
      "from rdflib.namespace import RDF as rdf\n",
      "from rdflib.namespace import RDFS as rdfs\n",
      "from rdflib.namespace import XSD as xsd"
     ],
     "language": "python",
     "metadata": {},
     "outputs": [],
     "prompt_number": 110
    },
    {
     "cell_type": "code",
     "collapsed": false,
     "input": [
      "gr = Graph()\n",
      "gr.bind('db', 'http://dbpedia.org/resource/')\n",
      "gr.bind('pso', 'http://jibe-b.github.io/ontology/pso/')\n",
      "gr.bind('r', 'http://jibe-b.github.io/resource/')\n",
      "r = Namespace('http://jibe-b.github.io/resource/')\n",
      "db = Namespace('http://dbpedia.org/resource/')\n",
      "pso = Namespace('http://jibe-b.github.io/ontology/pso/')\n",
      "#print g.serialize(format='turtle')"
     ],
     "language": "python",
     "metadata": {},
     "outputs": [],
     "prompt_number": 111
    },
    {
     "cell_type": "markdown",
     "metadata": {},
     "source": [
      "### Initialisation pour les calculs"
     ]
    },
    {
     "cell_type": "code",
     "collapsed": false,
     "input": [
      "import sympy as sp\n",
      "from sympy import init_session, init_printing\n",
      "init_session() \n",
      "init_printing(use_unicode=True)\n",
      "\n",
      "import math"
     ],
     "language": "python",
     "metadata": {},
     "outputs": [
      {
       "output_type": "stream",
       "stream": "stdout",
       "text": [
        "IPython console for SymPy 0.7.4.1 (Python 2.7.6-64-bit) (ground types: python)\n",
        "\n",
        "These commands were executed:\n",
        ">>> from __future__ import division\n",
        ">>> from sympy import *\n",
        ">>> x, y, z, t = symbols('x y z t')\n",
        ">>> k, m, n = symbols('k m n', integer=True)\n",
        ">>> f, g, h = symbols('f g h', cls=Function)\n",
        "\n",
        "Documentation can be found at http://www.sympy.org\n"
       ]
      }
     ],
     "prompt_number": 112
    },
    {
     "cell_type": "markdown",
     "metadata": {},
     "source": [
      "### Calculs"
     ]
    },
    {
     "cell_type": "code",
     "collapsed": false,
     "input": [
      "x, y = sp.symbols('x y')\n",
      "eq = sp.Eq(x,sp.ln(y))\n",
      "eq = sp.Eq(x, ln(y))\n",
      "res = sp.solve(eq, y)\n",
      "res[0]"
     ],
     "language": "python",
     "metadata": {},
     "outputs": [
      {
       "latex": [
        "$$e^{x}$$"
       ],
       "metadata": {},
       "output_type": "pyout",
       "png": "[encoded data removed]",
       "prompt_number": 113,
       "text": [
        " x\n",
        "\u212f "
       ]
      }
     ],
     "prompt_number": 113
    },
    {
     "cell_type": "markdown",
     "metadata": {},
     "source": [
      "#### Inscription dans un graph"
     ]
    },
    {
     "cell_type": "code",
     "collapsed": false,
     "input": [
      "gr.add((r.X, pso.hasExpression, Literal(res[0], datatype=xsd.string)))\n",
      "print gr.serialize(format='turtle')"
     ],
     "language": "python",
     "metadata": {},
     "outputs": [
      {
       "output_type": "stream",
       "stream": "stdout",
       "text": [
        "@prefix db: <http://dbpedia.org/resource/> .\n",
        "@prefix pso: <http://jibe-b.github.io/ontology/pso/> .\n",
        "@prefix r: <http://jibe-b.github.io/resource/> .\n",
        "@prefix rdf: <http://www.w3.org/1999/02/22-rdf-syntax-ns#> .\n",
        "@prefix rdfs: <http://www.w3.org/2000/01/rdf-schema#> .\n",
        "@prefix xml: <http://www.w3.org/XML/1998/namespace> .\n",
        "@prefix xsd: <http://www.w3.org/2001/XMLSchema#> .\n",
        "\n",
        "r:X pso:hasExpression \"exp(x)\"^^xsd:string .\n",
        "\n",
        "\n"
       ]
      }
     ],
     "prompt_number": 114
    },
    {
     "cell_type": "markdown",
     "metadata": {},
     "source": [
      "### Enregistrer le graph produit"
     ]
    },
    {
     "cell_type": "code",
     "collapsed": false,
     "input": [
      "file = 'res.rdf'\n",
      "f = open(file, 'a')\n",
      "f.write(gr.serialize(format='turtle'))\n",
      "f.close()"
     ],
     "language": "python",
     "metadata": {},
     "outputs": [],
     "prompt_number": 117
    },
    {
     "cell_type": "code",
     "collapsed": false,
     "input": [],
     "language": "python",
     "metadata": {},
     "outputs": [],
     "prompt_number": 115
    }
   ],
   "metadata": {}
  }
 ]
}